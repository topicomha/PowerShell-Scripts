{
 "cells": [
  {
   "cell_type": "code",
   "execution_count": null,
   "metadata": {
    "dotnet_interactive": {
     "language": "pwsh"
    },
    "polyglot_notebook": {
     "kernelName": "pwsh"
    }
   },
   "outputs": [],
   "source": [
    "# Step 1: Install Microsoft Graph PowerShell SDK\n",
    "Write-Output \"Installing Microsoft Graph PowerShell SDK...\"\n",
    "Install-Module Microsoft.Graph -Scope CurrentUser -Force\n",
    "\n",
    "# Step 2: Authenticate with Microsoft Graph\n",
    "Write-Output \"Authenticating with Microsoft Graph...\"\n",
    "Connect-MgGraph -Scopes \"Files.Read.All\"\n",
    "\n",
    "# Step 3: Get Image Files from OneDrive\n",
    "Write-Output \"Retrieving image files from OneDrive...\"\n",
    "$imageFiles = Get-MgUserDriveItem -UserId 'david@boydo.com' -Filter \"file/mimeType eq 'image/jpeg' or file/mimeType eq 'image/png'\"\n",
    "\n",
    "if ($imageFiles.Count -eq 0) {\n",
    "    Write-Output \"No image files found.\"\n",
    "    exit\n",
    "}\n",
    "\n",
    "Write-Output \"Found $($imageFiles.Count) image files.\"\n",
    "\n",
    "# Step 4: Save images to temporary files\n",
    "$tempDir = [System.IO.Path]::GetTempPath()\n",
    "$imagePaths = @()\n",
    "\n",
    "foreach ($file in $imageFiles) {\n",
    "    Write-Output \"Downloading file: $($file.Name)...\"\n",
    "    $fileContent = Get-MgUserDriveItemContent -UserId 'user@example.com' -DriveItemId $file.Id\n",
    "    $tempFilePath = [System.IO.Path]::Combine($tempDir, $file.Name)\n",
    "    [System.IO.File]::WriteAllBytes($tempFilePath, $fileContent)\n",
    "    $imagePaths += $tempFilePath\n",
    "    Write-Output \"Saved file to: $tempFilePath\"\n",
    "}\n",
    "\n",
    "# Step 5: Analyze Images using Python with OpenCV\n",
    "Write-Output \"Creating Python script for image analysis...\"\n",
    "$pythonScript = @\"\n",
    "import cv2\n",
    "import sys\n",
    "\n",
    "def analyze_image(image_path):\n",
    "    image = cv2.imread(image_path)\n",
    "    gray = cv2.cvtColor(image, cv2.COLOR_BGR2GRAY)\n",
    "    edges = cv2.Canny(gray, 100, 200)\n",
    "    return edges\n",
    "\n",
    "if __name__ == \"__main__\":\n",
    "    image_paths = sys.argv[1:]\n",
    "    for image_path in image_paths:\n",
    "        print(f\"Analyzing {image_path}...\")\n",
    "        edges = analyze_image(image_path)\n",
    "        output_path = image_path.replace('.jpg', '_edges.jpg').replace('.png', '_edges.png')\n",
    "        cv2.imwrite(output_path, edges)\n",
    "        print(f\"Analysis for {image_path} saved to {output_path}\")\n",
    "\"@\n",
    "\n",
    "$pythonScriptPath = [System.IO.Path]::Combine($tempDir, \"analyze_images.py\")\n",
    "[System.IO.File]::WriteAllText($pythonScriptPath, $pythonScript)\n",
    "Write-Output \"Python script created at: $pythonScriptPath\"\n",
    "\n",
    "# Run the Python script\n",
    "Write-Output \"Running Python script for image analysis...\"\n",
    "$imagePathsString = $imagePaths -join \" \"\n",
    "python $pythonScriptPath $imagePathsString\n",
    "\n",
    "# Clean up temporary files\n",
    "Write-Output \"Cleaning up temporary files...\"\n",
    "Remove-Item $imagePaths\n",
    "Remove-Item $pythonScriptPath\n",
    "\n",
    "Write-Output \"Script execution completed.\""
   ]
  },
  {
   "cell_type": "code",
   "execution_count": null,
   "metadata": {},
   "outputs": [],
   "source": [
    "# Install Microsoft Graph PowerShell SDK\n",
    "Install-Module Microsoft.Graph -Scope CurrentUser -Force"
   ]
  },
  {
   "cell_type": "code",
   "execution_count": null,
   "metadata": {},
   "outputs": [],
   "source": [
    "# Authenticate with Microsoft Graph\n",
    "Connect-MgGraph -Scopes \"Files.Read.All\""
   ]
  },
  {
   "cell_type": "code",
   "execution_count": null,
   "metadata": {},
   "outputs": [],
   "source": [
    "# Retrieve image files from OneDrive\n",
    "$userId = 'david@boydo.com'\n",
    "$drive = Get-MgUserDrive -UserId $userId\n",
    "$driveId = $drive.Id\n",
    "\n",
    "Write-Output \"Retrieving image files from OneDrive...\"\n",
    "$imageFiles = Get-MgUserDriveItem -UserId $userId -DriveId $driveId -Filter \"file/mimeType eq 'image/jpeg' or file/mimeType eq 'image/png'\"\n",
    "\n",
    "if ($imageFiles.Count -eq 0) {\n",
    "    Write-Output \"No image files found.\"\n",
    "} else {\n",
    "    Write-Output \"Found $($imageFiles.Count) image files.\"\n",
    "}"
   ]
  },
  {
   "cell_type": "code",
   "execution_count": null,
   "metadata": {},
   "outputs": [],
   "source": [
    "# Save images to temporary files\n",
    "$tempDir = [System.IO.Path]::GetTempPath()\n",
    "$imagePaths = @()\n",
    "\n",
    "foreach ($file in $imageFiles) {\n",
    "    Write-Output \"Downloading file: $($file.Name)...\"\n",
    "    $fileContent = Get-MgUserDriveItemContent -UserId $userId -DriveId $driveId -ItemId $file.Id\n",
    "    $tempFilePath = [System.IO.Path]::Combine($tempDir, $file.Name)\n",
    "    [System.IO.File]::WriteAllBytes($tempFilePath, $fileContent)\n",
    "    $imagePaths += $tempFilePath\n",
    "    Write-Output \"Saved file to: $tempFilePath\"\n",
    "}"
   ]
  },
  {
   "cell_type": "code",
   "execution_count": null,
   "metadata": {},
   "outputs": [],
   "source": [
    "# Create Python script for image analysis\n",
    "$pythonScript = @\"\n",
    "import cv2\n",
    "import sys\n",
    "\n",
    "def analyze_image(image_path):\n",
    "    image = cv2.imread(image_path)\n",
    "    gray = cv2.cvtColor(image, cv2.COLOR_BGR2GRAY)\n",
    "    edges = cv2.Canny(gray, 100, 200)\n",
    "    return edges\n",
    "\n",
    "if __name__ == \"__main__\":\n",
    "    image_paths = sys.argv[1:]\n",
    "    for image_path in image_paths:\n",
    "        print(f\"Analyzing {image_path}...\")\n",
    "        edges = analyze_image(image_path)\n",
    "        output_path = image_path.replace('.jpg', '_edges.jpg').replace('.png', '_edges.png')\n",
    "        cv2.imwrite(output_path, edges)\n",
    "        print(f\"Analysis for {image_path} saved to {output_path}\")\n",
    "\"@\n",
    "\n",
    "$pythonScriptPath = [System.IO.Path]::Combine($tempDir, \"analyze_images.py\")\n",
    "[System.IO.File]::WriteAllText($pythonScriptPath, $pythonScript)\n",
    "Write-Output \"Python script created at: $pythonScriptPath\""
   ]
  },
  {
   "cell_type": "code",
   "execution_count": null,
   "metadata": {},
   "outputs": [],
   "source": [
    "# Run the Python script\n",
    "Write-Output \"Running Python script for image analysis...\"\n",
    "$imagePathsString = $imagePaths -join \" \"\n",
    "python $pythonScriptPath $imagePathsString\n",
    "\n",
    "# Clean up temporary files\n",
    "Write-Output \"Cleaning up temporary files...\"\n",
    "Remove-Item $imagePaths\n",
    "Remove-Item $pythonScriptPath\n",
    "\n",
    "Write-Output \"Script execution completed.\""
   ]
  },
  {
   "cell_type": "code",
   "execution_count": null,
   "metadata": {},
   "outputs": [],
   "source": []
  }
 ],
 "metadata": {
  "kernelspec": {
   "display_name": ".NET (C#)",
   "language": "C#",
   "name": ".net-csharp"
  },
  "polyglot_notebook": {
   "kernelInfo": {
    "defaultKernelName": "csharp",
    "items": [
     {
      "aliases": [],
      "name": "csharp"
     },
     {
      "aliases": [],
      "languageName": "pwsh",
      "name": "pwsh"
     }
    ]
   }
  }
 },
 "nbformat": 4,
 "nbformat_minor": 2
}
